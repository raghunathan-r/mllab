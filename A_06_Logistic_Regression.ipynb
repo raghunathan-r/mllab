{
 "cells": [
  {
   "cell_type": "code",
   "execution_count": null,
   "metadata": {},
   "outputs": [],
   "source": [
    "import pandas as pd\n",
    "import numpy as np"
   ]
  },
  {
   "cell_type": "code",
   "execution_count": null,
   "metadata": {},
   "outputs": [],
   "source": [
    "col_names = ['x1', 'x2', 'result']\n",
    "\n",
    "df = pd.read_csv(\"./Logistic_Regression_Dataset_Students.csv\", header=None, names=col_names)\n",
    "df"
   ]
  },
  {
   "cell_type": "code",
   "execution_count": null,
   "metadata": {},
   "outputs": [],
   "source": [
    "# extract the input features from the data frame and convert them to a NumPy array\n",
    "x = df[['x1', 'x2']].values\n",
    "x"
   ]
  },
  {
   "cell_type": "code",
   "execution_count": null,
   "metadata": {},
   "outputs": [],
   "source": [
    "# extract the output labels from the data frame and convert them to a NumPy array\n",
    "y = df['result'].values\n",
    "y"
   ]
  },
  {
   "cell_type": "code",
   "execution_count": null,
   "metadata": {},
   "outputs": [],
   "source": [
    "# standardizing the input features so they have zero mean and variance\n",
    "from sklearn import preprocessing\n",
    "xp = preprocessing.scale(x)"
   ]
  },
  {
   "cell_type": "code",
   "execution_count": null,
   "metadata": {},
   "outputs": [],
   "source": [
    "from sklearn.model_selection import KFold, train_test_split\n",
    "\n",
    "# training the logistic regression model using the training data and the stochastic gradient descent optimization algorithm\n",
    "# we split the data into 5 folds using kfold so we cross verify\n",
    "kf = KFold(n_splits=5)\n",
    "\n",
    "# training and testing the logistic regression model using the stochastic gradient descent algorithm. model's weights (b0, b1, and b2) are updated at each epoch until the number of epochs (iterations) is exhausted. The alpha parameter is the learning rate, which controls the size of the weight update\n",
    "for train_index, test_index in kf.split(xp):\n",
    "    xtrain, xtest, ytrain, ytest = train_test_split(xp, y, test_size = 0.20, random_state=0)\n",
    "    x1 = xtrain[:, 0]\n",
    "    x2 = xtrain[:, 1]\n",
    "    b0 = 0.0\n",
    "    b1 = 0.0\n",
    "    b2 = 0.0\n",
    "    epoch=1000\n",
    "    alpha=0.001\n",
    "    while(epoch > 0):\n",
    "        for i in range(len(xtrain)):\n",
    "            prediction = 1/(1 + np.exp(-b0 + b1*x1[i] + b2*x2[i]))\n",
    "            b0 = b0 + alpha*(ytrain[i] - prediction) * prediction * ( 1 - prediction) * 1.0\n",
    "            b1 = b1 + alpha*(ytrain[i] - prediction) * prediction * ( 1 - prediction) * x1[i]\n",
    "            b2 = b2 + alpha*(ytrain[i] - prediction) * prediction * ( 1 - prediction) * x2[i]\n",
    "        epoch = epoch - 1\n",
    "\n",
    "print(b0)\n",
    "print(b1)\n",
    "print(b2)"
   ]
  },
  {
   "cell_type": "code",
   "execution_count": null,
   "metadata": {},
   "outputs": [],
   "source": [
    "# using the trained model to make predictions on the test set\n",
    "final_predictions = []\n",
    "\n",
    "x3 = xtest[:, 0]\n",
    "x4 = xtest[:, 1]\n",
    "\n",
    "print(ytest)"
   ]
  },
  {
   "cell_type": "code",
   "execution_count": null,
   "metadata": {},
   "outputs": [],
   "source": [
    "y_pred = [0] * len(xtest)\n",
    "\n",
    "for i in range(len(xtest)):\n",
    "    y_pred[i] = np.round( 1 / 1 + np.exp(-(b0 + b1*x3[i] + b2*x4[i])))\n",
    "    final_predictions.append(np.ceil(y_pred[i]))\n",
    "\n",
    "print(final_predictions)"
   ]
  },
  {
   "cell_type": "code",
   "execution_count": null,
   "metadata": {},
   "outputs": [],
   "source": [
    "from sklearn.metrics import accuracy_score\n",
    "\n",
    "print(\"accuracy : \",accuracy_score(ytest,y_pred))"
   ]
  }
 ],
 "metadata": {
  "kernelspec": {
   "display_name": "Python 3",
   "language": "python",
   "name": "python3"
  },
  "language_info": {
   "codemirror_mode": {
    "name": "ipython",
    "version": 3
   },
   "file_extension": ".py",
   "mimetype": "text/x-python",
   "name": "python",
   "nbconvert_exporter": "python",
   "pygments_lexer": "ipython3",
   "version": "3.10.7 (tags/v3.10.7:6cc6b13, Sep  5 2022, 14:08:36) [MSC v.1933 64 bit (AMD64)]"
  },
  "orig_nbformat": 4,
  "vscode": {
   "interpreter": {
    "hash": "467a397cf1c5f9b4668be4aaa2bda14a83c8bfb801899d630e5c827963d9ea74"
   }
  }
 },
 "nbformat": 4,
 "nbformat_minor": 2
}

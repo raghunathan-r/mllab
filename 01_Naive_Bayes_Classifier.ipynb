{
 "cells": [
  {
   "cell_type": "code",
   "execution_count": 1,
   "metadata": {},
   "outputs": [],
   "source": [
    "import pandas as pd\n",
    "import numpy as np"
   ]
  },
  {
   "cell_type": "code",
   "execution_count": 2,
   "metadata": {},
   "outputs": [
    {
     "data": {
      "text/html": [
       "<div>\n",
       "<style scoped>\n",
       "    .dataframe tbody tr th:only-of-type {\n",
       "        vertical-align: middle;\n",
       "    }\n",
       "\n",
       "    .dataframe tbody tr th {\n",
       "        vertical-align: top;\n",
       "    }\n",
       "\n",
       "    .dataframe thead th {\n",
       "        text-align: right;\n",
       "    }\n",
       "</style>\n",
       "<table border=\"1\" class=\"dataframe\">\n",
       "  <thead>\n",
       "    <tr style=\"text-align: right;\">\n",
       "      <th></th>\n",
       "      <th>no</th>\n",
       "      <th>pc</th>\n",
       "      <th>wbc</th>\n",
       "      <th>mc</th>\n",
       "      <th>ast</th>\n",
       "      <th>bc</th>\n",
       "      <th>ldh</th>\n",
       "      <th>diagnosis</th>\n",
       "    </tr>\n",
       "  </thead>\n",
       "  <tbody>\n",
       "    <tr>\n",
       "      <th>0</th>\n",
       "      <td>1</td>\n",
       "      <td>Low</td>\n",
       "      <td>Low</td>\n",
       "      <td>Low</td>\n",
       "      <td>High</td>\n",
       "      <td>Normal</td>\n",
       "      <td>Normal</td>\n",
       "      <td>True</td>\n",
       "    </tr>\n",
       "    <tr>\n",
       "      <th>1</th>\n",
       "      <td>2</td>\n",
       "      <td>Low</td>\n",
       "      <td>Low</td>\n",
       "      <td>Normal</td>\n",
       "      <td>High</td>\n",
       "      <td>Normal</td>\n",
       "      <td>High</td>\n",
       "      <td>True</td>\n",
       "    </tr>\n",
       "    <tr>\n",
       "      <th>2</th>\n",
       "      <td>3</td>\n",
       "      <td>Low</td>\n",
       "      <td>High</td>\n",
       "      <td>Normal</td>\n",
       "      <td>High</td>\n",
       "      <td>Normal</td>\n",
       "      <td>Normal</td>\n",
       "      <td>False</td>\n",
       "    </tr>\n",
       "    <tr>\n",
       "      <th>3</th>\n",
       "      <td>4</td>\n",
       "      <td>Low</td>\n",
       "      <td>High</td>\n",
       "      <td>Normal</td>\n",
       "      <td>High</td>\n",
       "      <td>High</td>\n",
       "      <td>Normal</td>\n",
       "      <td>True</td>\n",
       "    </tr>\n",
       "    <tr>\n",
       "      <th>4</th>\n",
       "      <td>5</td>\n",
       "      <td>Low</td>\n",
       "      <td>Normal</td>\n",
       "      <td>High</td>\n",
       "      <td>High</td>\n",
       "      <td>Normal</td>\n",
       "      <td>Normal</td>\n",
       "      <td>False</td>\n",
       "    </tr>\n",
       "  </tbody>\n",
       "</table>\n",
       "</div>"
      ],
      "text/plain": [
       "   no   pc     wbc      mc   ast      bc     ldh  diagnosis\n",
       "0   1  Low     Low     Low  High  Normal  Normal       True\n",
       "1   2  Low     Low  Normal  High  Normal    High       True\n",
       "2   3  Low    High  Normal  High  Normal  Normal      False\n",
       "3   4  Low    High  Normal  High    High  Normal       True\n",
       "4   5  Low  Normal    High  High  Normal  Normal      False"
      ]
     },
     "execution_count": 2,
     "metadata": {},
     "output_type": "execute_result"
    }
   ],
   "source": [
    "df = pd.read_csv(\"./Naive_Bayes_Dataset_COVID.csv\")\n",
    "df.head()"
   ]
  },
  {
   "cell_type": "code",
   "execution_count": 5,
   "metadata": {},
   "outputs": [],
   "source": [
    "from sklearn import preprocessing\n",
    "\n",
    "# encoding the categorical variables in the data as integer values as Naive Bayes only works with numerical data\n",
    "le = preprocessing.LabelEncoder()\n",
    "\n",
    "pc_encoded = le.fit_transform(df['pc'].values)\n",
    "wbc_encoded = le.fit_transform(df['wbc'].values)\n",
    "mc_encoded = le.fit_transform(df['mc'].values)\n",
    "ast_encoded = le.fit_transform(df['ast'].values)\n",
    "bc_encoded = le.fit_transform(df['bc'].values)\n",
    "ldh_encoded = le.fit_transform(df['ldh'].values)\n",
    "diagnosis_encoded = le.fit_transform(df['diagnosis'].values)"
   ]
  },
  {
   "cell_type": "code",
   "execution_count": 7,
   "metadata": {},
   "outputs": [
    {
     "name": "stdout",
     "output_type": "stream",
     "text": [
      "[[1 1 1 0 1 1]\n",
      " [1 1 2 0 1 0]\n",
      " [1 0 2 0 1 1]\n",
      " [1 0 2 0 0 1]\n",
      " [1 2 0 0 1 1]\n",
      " [1 2 2 0 1 0]\n",
      " [2 1 1 0 1 1]\n",
      " [2 0 2 0 1 1]\n",
      " [2 0 2 0 0 0]\n",
      " [2 2 0 0 1 1]\n",
      " [2 2 0 0 1 0]\n",
      " [0 1 1 1 1 1]\n",
      " [0 2 0 1 1 1]\n",
      " [0 2 0 1 0 0]\n",
      " [0 0 2 1 1 0]\n",
      " [1 2 0 0 0 1]\n",
      " [2 2 0 0 0 1]\n",
      " [0 1 1 1 1 0]\n",
      " [2 2 2 0 1 1]\n",
      " [2 0 2 0 1 0]\n",
      " [2 1 2 0 1 0]\n",
      " [1 0 2 0 0 0]\n",
      " [1 1 1 0 0 0]\n",
      " [0 0 2 1 1 1]\n",
      " [0 2 2 1 1 1]]\n",
      "[1 1 0 1 0 1 1 0 1 0 1 1 0 1 1 0 0 1 0 1 1 1 1 1 0]\n"
     ]
    }
   ],
   "source": [
    "# labels\n",
    "Y = le.fit_transform(df['diagnosis'].values)\n",
    "\n",
    "# creating an array of input features (X) by combining the encoded variables into a single array using the zip function. \n",
    "X = np.array(list(zip(pc_encoded,wbc_encoded,mc_encoded,ast_encoded,bc_encoded,ldh_encoded)))\n",
    "\n",
    "print(X)\n",
    "print(Y)"
   ]
  },
  {
   "cell_type": "code",
   "execution_count": 8,
   "metadata": {},
   "outputs": [],
   "source": [
    "# creating training and testing data sets\n",
    "from sklearn.model_selection import train_test_split\n",
    "X_train,X_test,Y_train,Y_test = train_test_split(X,Y)"
   ]
  },
  {
   "attachments": {},
   "cell_type": "markdown",
   "metadata": {},
   "source": [
    "The Naive Bayes classifier is a simple probabilistic model based on the idea that the features in a dataset are independent of one another. Given a set of input features and a target variable, the classifier estimates the probability of each possible target value based on the frequency of the input features in the training data. The classifier then predicts the target value with the highest probability as the output."
   ]
  },
  {
   "cell_type": "code",
   "execution_count": 9,
   "metadata": {},
   "outputs": [
    {
     "data": {
      "text/plain": [
       "array([1, 0, 1, 1, 1, 0, 1], dtype=int64)"
      ]
     },
     "execution_count": 9,
     "metadata": {},
     "output_type": "execute_result"
    }
   ],
   "source": [
    "from sklearn.naive_bayes import MultinomialNB\n",
    "\n",
    "model = MultinomialNB()\n",
    "\n",
    "# training and testing the model\n",
    "model.fit(X_train, Y_train)\n",
    "\n",
    "y_pred = model.predict(X_test)\n",
    "\n",
    "y_pred"
   ]
  },
  {
   "cell_type": "code",
   "execution_count": 12,
   "metadata": {},
   "outputs": [
    {
     "name": "stdout",
     "output_type": "stream",
     "text": [
      "0.5714285714285714\n",
      "              precision    recall  f1-score   support\n",
      "\n",
      "           0       0.50      0.33      0.40         3\n",
      "           1       0.60      0.75      0.67         4\n",
      "\n",
      "    accuracy                           0.57         7\n",
      "   macro avg       0.55      0.54      0.53         7\n",
      "weighted avg       0.56      0.57      0.55         7\n",
      "\n"
     ]
    }
   ],
   "source": [
    "# finding the accuracy score\n",
    "\n",
    "from sklearn.metrics import accuracy_score, classification_report, roc_curve\n",
    "\n",
    "print(accuracy_score(Y_test, y_pred))\n",
    "print(classification_report(Y_test, y_pred))"
   ]
  },
  {
   "cell_type": "code",
   "execution_count": 13,
   "metadata": {},
   "outputs": [],
   "source": [
    "# For ploting the ROC curve\n",
    "\n",
    "# storing the probabilitie of each data belonging to a class\n",
    "lr_probs = model.predict_proba(X_test)\n",
    "# keep probabilities for the positive outcome only\n",
    "lr_probs = lr_probs[:, 1]\n",
    "# caluclating the false posetive rate and true positive rate using roc_curve function\n",
    "lr_fpr, lr_tpr, _= roc_curve(Y_test, lr_probs)\n"
   ]
  },
  {
   "cell_type": "code",
   "execution_count": 16,
   "metadata": {},
   "outputs": [
    {
     "data": {
      "text/plain": [
       "Text(0, 0.5, 'True Positive Rate')"
      ]
     },
     "execution_count": 16,
     "metadata": {},
     "output_type": "execute_result"
    },
    {
     "data": {
      "image/png": "[encoded data removed]",
      "text/plain": [
       "<Figure size 640x480 with 1 Axes>"
      ]
     },
     "metadata": {},
     "output_type": "display_data"
    }
   ],
   "source": [
    "# Plotting the graph for the ROC\n",
    "\n",
    "from matplotlib import pyplot\n",
    "pyplot.plot(lr_fpr, lr_tpr, marker = \".\")\n",
    "pyplot.xlabel('False Positive Rate')\n",
    "pyplot.ylabel('True Positive Rate')"
   ]
  }
 ],
 "metadata": {
  "kernelspec": {
   "display_name": "Python 3",
   "language": "python",
   "name": "python3"
  },
  "language_info": {
   "codemirror_mode": {
    "name": "ipython",
    "version": 3
   },
   "file_extension": ".py",
   "mimetype": "text/x-python",
   "name": "python",
   "nbconvert_exporter": "python",
   "pygments_lexer": "ipython3",
   "version": "3.10.7"
  },
  "orig_nbformat": 4,
  "vscode": {
   "interpreter": {
    "hash": "467a397cf1c5f9b4668be4aaa2bda14a83c8bfb801899d630e5c827963d9ea74"
   }
  }
 },
 "nbformat": 4,
 "nbformat_minor": 2
}

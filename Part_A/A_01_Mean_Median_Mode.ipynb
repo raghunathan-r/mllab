{
 "cells": [
  {
   "cell_type": "code",
   "execution_count": null,
   "metadata": {},
   "outputs": [],
   "source": [
    "# Q1. Use the above array of values and compute the mean, median, mode, standard deviation, variance min-max normalization and standardization.\n",
    "\n",
    "# ( [ 115.3, 195.5, 120.5, 110.2, 90.4, 105.6, 110.9, 116.3, 122.3, 125.4 ] )"
   ]
  },
  {
   "cell_type": "code",
   "execution_count": null,
   "metadata": {},
   "outputs": [],
   "source": [
    "import numpy as np"
   ]
  },
  {
   "cell_type": "code",
   "execution_count": null,
   "metadata": {},
   "outputs": [],
   "source": [
    "array = [ 115.3, 195.5, 120.5, 110.2, 90.4, 105.6, 110.9, 116.3, 122.3, 125.4 ]\n",
    "\n",
    "sum = 0.0\n",
    "for i in array:\n",
    "    sum = sum + i\n",
    "mean = sum / len(array)\n",
    "\n",
    "print(\"MEAN = \", mean)\n"
   ]
  },
  {
   "cell_type": "code",
   "execution_count": null,
   "metadata": {},
   "outputs": [],
   "source": [
    "# 1 2 3 4 5 6\n",
    "array.sort()\n",
    "if (len(array) % 2 == 0):\n",
    "    median = (array[len(array)//2] + array[len(array)//2 - 1])/2\n",
    "else:\n",
    "    median = array[len(array)//2]\n",
    "\n",
    "print(\"MEDIAN = \", median)"
   ]
  },
  {
   "cell_type": "code",
   "execution_count": null,
   "metadata": {},
   "outputs": [],
   "source": [
    "mode = 0\n",
    "max_count = 0\n",
    "\n",
    "for i in range(0, len(array)):\n",
    "    count = 0\n",
    "    for j in range(i+1, len(array)):\n",
    "        if(array[i] == array[j]):\n",
    "            count = count + 1\n",
    "    if(count > max_count):\n",
    "        max_count = count\n",
    "        mode = array[i]\n",
    "\n",
    "print(\"MODE = \", mode)\n"
   ]
  },
  {
   "cell_type": "code",
   "execution_count": null,
   "metadata": {},
   "outputs": [],
   "source": [
    "sqaured_diffrence = 0\n",
    "\n",
    "for x in array:\n",
    "    sqaured_diffrence = sqaured_diffrence + (x - mean)**2\n",
    "\n",
    "variance = sqaured_diffrence / len(array)\n",
    "\n",
    "print(\"VARIANCE : \", variance)\n",
    "\n",
    "std_deviation = variance**0.5\n",
    "print(\"STANDARD DEVIATION : \", std_deviation)"
   ]
  },
  {
   "cell_type": "code",
   "execution_count": null,
   "metadata": {},
   "outputs": [],
   "source": [
    "# min max normalization\n",
    "min = array[0]\n",
    "max = array[len(array) - 1]\n",
    "\n",
    "for x in array:\n",
    "    print( (x - min)/(max - min) )"
   ]
  },
  {
   "cell_type": "code",
   "execution_count": null,
   "metadata": {},
   "outputs": [],
   "source": [
    "# standardisation\n",
    "\n",
    "for x in array:\n",
    "    print( ( x - mean)/( std_deviation ))"
   ]
  }
 ],
 "metadata": {
  "kernelspec": {
   "display_name": "Python 3",
   "language": "python",
   "name": "python3"
  },
  "language_info": {
   "codemirror_mode": {
    "name": "ipython",
    "version": 3
   },
   "file_extension": ".py",
   "mimetype": "text/x-python",
   "name": "python",
   "nbconvert_exporter": "python",
   "pygments_lexer": "ipython3",
   "version": "3.10.7"
  },
  "orig_nbformat": 4,
  "vscode": {
   "interpreter": {
    "hash": "467a397cf1c5f9b4668be4aaa2bda14a83c8bfb801899d630e5c827963d9ea74"
   }
  }
 },
 "nbformat": 4,
 "nbformat_minor": 2
}

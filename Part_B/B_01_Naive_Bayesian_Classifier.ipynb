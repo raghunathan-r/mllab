{
 "cells": [
  {
   "cell_type": "code",
   "execution_count": 1,
   "id": "d6182544",
   "metadata": {},
   "outputs": [],
   "source": [
    "import pandas as pd\n",
    "import numpy as np"
   ]
  },
  {
   "cell_type": "code",
   "execution_count": 2,
   "id": "144b35f3",
   "metadata": {},
   "outputs": [
    {
     "data": {
      "text/html": [
       "<div>\n",
       "<style scoped>\n",
       "    .dataframe tbody tr th:only-of-type {\n",
       "        vertical-align: middle;\n",
       "    }\n",
       "\n",
       "    .dataframe tbody tr th {\n",
       "        vertical-align: top;\n",
       "    }\n",
       "\n",
       "    .dataframe thead th {\n",
       "        text-align: right;\n",
       "    }\n",
       "</style>\n",
       "<table border=\"1\" class=\"dataframe\">\n",
       "  <thead>\n",
       "    <tr style=\"text-align: right;\">\n",
       "      <th></th>\n",
       "      <th>no</th>\n",
       "      <th>pc</th>\n",
       "      <th>wbc</th>\n",
       "      <th>mc</th>\n",
       "      <th>ast</th>\n",
       "      <th>bc</th>\n",
       "      <th>ldh</th>\n",
       "      <th>diagnosis</th>\n",
       "    </tr>\n",
       "  </thead>\n",
       "  <tbody>\n",
       "    <tr>\n",
       "      <th>0</th>\n",
       "      <td>1</td>\n",
       "      <td>Low</td>\n",
       "      <td>Low</td>\n",
       "      <td>Low</td>\n",
       "      <td>High</td>\n",
       "      <td>Normal</td>\n",
       "      <td>Normal</td>\n",
       "      <td>True</td>\n",
       "    </tr>\n",
       "    <tr>\n",
       "      <th>1</th>\n",
       "      <td>2</td>\n",
       "      <td>Low</td>\n",
       "      <td>Low</td>\n",
       "      <td>Normal</td>\n",
       "      <td>High</td>\n",
       "      <td>Normal</td>\n",
       "      <td>High</td>\n",
       "      <td>True</td>\n",
       "    </tr>\n",
       "    <tr>\n",
       "      <th>2</th>\n",
       "      <td>3</td>\n",
       "      <td>Low</td>\n",
       "      <td>High</td>\n",
       "      <td>Normal</td>\n",
       "      <td>High</td>\n",
       "      <td>Normal</td>\n",
       "      <td>Normal</td>\n",
       "      <td>False</td>\n",
       "    </tr>\n",
       "    <tr>\n",
       "      <th>3</th>\n",
       "      <td>4</td>\n",
       "      <td>Low</td>\n",
       "      <td>High</td>\n",
       "      <td>Normal</td>\n",
       "      <td>High</td>\n",
       "      <td>High</td>\n",
       "      <td>Normal</td>\n",
       "      <td>True</td>\n",
       "    </tr>\n",
       "    <tr>\n",
       "      <th>4</th>\n",
       "      <td>5</td>\n",
       "      <td>Low</td>\n",
       "      <td>Normal</td>\n",
       "      <td>High</td>\n",
       "      <td>High</td>\n",
       "      <td>Normal</td>\n",
       "      <td>Normal</td>\n",
       "      <td>False</td>\n",
       "    </tr>\n",
       "  </tbody>\n",
       "</table>\n",
       "</div>"
      ],
      "text/plain": [
       "   no   pc     wbc      mc   ast      bc     ldh  diagnosis\n",
       "0   1  Low     Low     Low  High  Normal  Normal       True\n",
       "1   2  Low     Low  Normal  High  Normal    High       True\n",
       "2   3  Low    High  Normal  High  Normal  Normal      False\n",
       "3   4  Low    High  Normal  High    High  Normal       True\n",
       "4   5  Low  Normal    High  High  Normal  Normal      False"
      ]
     },
     "execution_count": 2,
     "metadata": {},
     "output_type": "execute_result"
    }
   ],
   "source": [
    "df = pd.read_csv(\"./Naive_Bayes_Dataset_COVID.csv\")\n",
    "df.head()"
   ]
  },
  {
   "cell_type": "code",
   "execution_count": 11,
   "id": "7f304246",
   "metadata": {},
   "outputs": [
    {
     "name": "stdout",
     "output_type": "stream",
     "text": [
      "[[ 0  1  1  1  0  1  1]\n",
      " [ 1  1  1  2  0  1  0]\n",
      " [ 2  1  0  2  0  1  1]\n",
      " [ 3  1  0  2  0  0  1]\n",
      " [ 4  1  2  0  0  1  1]\n",
      " [ 5  1  2  2  0  1  0]\n",
      " [ 6  2  1  1  0  1  1]\n",
      " [ 7  2  0  2  0  1  1]\n",
      " [ 8  2  0  2  0  0  0]\n",
      " [ 9  2  2  0  0  1  1]\n",
      " [10  2  2  0  0  1  0]\n",
      " [11  0  1  1  1  1  1]\n",
      " [12  0  2  0  1  1  1]\n",
      " [13  0  2  0  1  0  0]\n",
      " [14  0  0  2  1  1  0]\n",
      " [15  1  2  0  0  0  1]\n",
      " [16  2  2  0  0  0  1]\n",
      " [17  0  1  1  1  1  0]\n",
      " [18  2  2  2  0  1  1]\n",
      " [19  2  0  2  0  1  0]\n",
      " [20  2  1  2  0  1  0]\n",
      " [21  1  0  2  0  0  0]\n",
      " [22  1  1  1  0  0  0]\n",
      " [23  0  0  2  1  1  1]\n",
      " [24  0  2  2  1  1  1]] [1 1 0 1 0 1 1 0 1 0 1 1 0 1 1 0 0 1 0 1 1 1 1 1 0]\n"
     ]
    }
   ],
   "source": [
    "from sklearn.preprocessing import LabelEncoder\n",
    "le = LabelEncoder()\n",
    "\n",
    "# changing the catagorical values into numerical values\n",
    "no_encoded = le.fit_transform(df[\"no\"])\n",
    "pc_encoded = le.fit_transform(df[\"pc\"])\n",
    "wbc_encoded = le.fit_transform(df[\"wbc\"])\n",
    "mc_encoded = le.fit_transform(df[\"mc\"])\n",
    "ast_encoded = le.fit_transform(df[\"ast\"])\n",
    "bc_encoded = le.fit_transform(df[\"bc\"])\n",
    "ldh_encoded = le.fit_transform(df[\"ldh\"])\n",
    "diagnosis_encoded = le.fit_transform(df[\"diagnosis\"])\n",
    "\n",
    "# creating the datafram for the same\n",
    "x = np.array(list(zip(no_encoded,pc_encoded,wbc_encoded,mc_encoded,ast_encoded, bc_encoded, ldh_encoded)))\n",
    "y = diagnosis_encoded\n",
    "\n",
    "print(x, y)"
   ]
  },
  {
   "cell_type": "code",
   "execution_count": 12,
   "id": "dca46d95",
   "metadata": {},
   "outputs": [],
   "source": [
    "# spliting the data into train test split\n",
    "from sklearn.model_selection import train_test_split\n",
    "x_train, x_test, y_train, y_test = train_test_split(x, y, test_size=0.2)"
   ]
  },
  {
   "cell_type": "code",
   "execution_count": 13,
   "id": "e5ba9a7a",
   "metadata": {},
   "outputs": [],
   "source": [
    "# creating the classifier model and training\n",
    "from sklearn.naive_bayes import MultinomialNB\n",
    "model = MultinomialNB()\n",
    "\n",
    "model.fit(x_train, y_train)\n",
    "y_predicted = model.predict(x_test)"
   ]
  },
  {
   "cell_type": "code",
   "execution_count": 14,
   "id": "daf005eb",
   "metadata": {},
   "outputs": [
    {
     "name": "stdout",
     "output_type": "stream",
     "text": [
      "              precision    recall  f1-score   support\n",
      "\n",
      "           0       0.50      0.50      0.50         2\n",
      "           1       0.67      0.67      0.67         3\n",
      "\n",
      "    accuracy                           0.60         5\n",
      "   macro avg       0.58      0.58      0.58         5\n",
      "weighted avg       0.60      0.60      0.60         5\n",
      "\n"
     ]
    }
   ],
   "source": [
    "# printing the accuracy score and classification report\n",
    "from sklearn.metrics import classification_report, roc_curve\n",
    "\n",
    "print(classification_report(y_test, y_predicted))"
   ]
  },
  {
   "cell_type": "code",
   "execution_count": 18,
   "id": "72d43e79",
   "metadata": {},
   "outputs": [],
   "source": [
    "# probability of correct classification\n",
    "lr_probs = model.predict_proba(x_test)\n",
    "\n",
    "# keeping only postive predictions\n",
    "lr_probs = lr_probs[:, 1]\n",
    "\n",
    "# calculating fpr and tpr\n",
    "lr_fpr, lr_tpr, _ = roc_curve(y_test, lr_probs)"
   ]
  },
  {
   "cell_type": "code",
   "execution_count": 22,
   "id": "39b3ec1f",
   "metadata": {},
   "outputs": [
    {
     "data": {
      "text/plain": [
       "[<matplotlib.lines.Line2D at 0x23f8d973b50>]"
      ]
     },
     "execution_count": 22,
     "metadata": {},
     "output_type": "execute_result"
    },
    {
     "data": {
      "image/png": "[encoded data removed]",
      "text/plain": [
       "<Figure size 640x480 with 1 Axes>"
      ]
     },
     "metadata": {},
     "output_type": "display_data"
    }
   ],
   "source": [
    "# plotting the curve\n",
    "import matplotlib.pyplot as plt\n",
    "\n",
    "plt.plot(lr_fpr, lr_tpr, marker=\".\")"
   ]
  },
  {
   "cell_type": "code",
   "execution_count": null,
   "id": "faab7490",
   "metadata": {},
   "outputs": [],
   "source": []
  }
 ],
 "metadata": {
  "kernelspec": {
   "display_name": "Python 3 (ipykernel)",
   "language": "python",
   "name": "python3"
  },
  "language_info": {
   "codemirror_mode": {
    "name": "ipython",
    "version": 3
   },
   "file_extension": ".py",
   "mimetype": "text/x-python",
   "name": "python",
   "nbconvert_exporter": "python",
   "pygments_lexer": "ipython3",
   "version": "3.10.7"
  }
 },
 "nbformat": 4,
 "nbformat_minor": 5
}

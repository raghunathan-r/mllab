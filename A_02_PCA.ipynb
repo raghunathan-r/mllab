{
 "cells": [
  {
   "cell_type": "code",
   "execution_count": null,
   "metadata": {},
   "outputs": [],
   "source": [
    "import numpy as np\n",
    "import pandas as pd"
   ]
  },
  {
   "cell_type": "code",
   "execution_count": null,
   "metadata": {},
   "outputs": [],
   "source": [
    "df = pd.read_csv(\"./PCA_Dataset_Iris_Flowers.csv\")\n",
    "df.head()"
   ]
  },
  {
   "cell_type": "code",
   "execution_count": null,
   "metadata": {},
   "outputs": [],
   "source": [
    "# spliting the data into input features and labels\n",
    "X = df.drop(['species'], axis=1) # input features\n",
    "y = df['species'] # labels"
   ]
  },
  {
   "cell_type": "code",
   "execution_count": null,
   "metadata": {},
   "outputs": [],
   "source": [
    "from sklearn.preprocessing import StandardScaler\n",
    "\n",
    "# Standardize the input features\n",
    "X_scaled = StandardScaler().fit_transform(X)\n",
    "X_scaled[:5]\n"
   ]
  },
  {
   "cell_type": "code",
   "execution_count": null,
   "metadata": {},
   "outputs": [],
   "source": [
    "# Calculate the covariance matrix \n",
    "# Covariance matrix: C = E[(X - E[X])(X - E[X])^T]\n",
    "features = X_scaled.T  # transpose the features to get shape (n_features, n_samples)\n",
    "cov_matrix = np.cov(features)\n",
    "\n",
    "cov_matrix[:5]"
   ]
  },
  {
   "cell_type": "code",
   "execution_count": null,
   "metadata": {},
   "outputs": [],
   "source": [
    "# Calculate the eigenvalues and eigenvectors of the covariance matrix\n",
    "values, vectors = np.linalg.eig(cov_matrix)\n",
    "\n",
    "print(values[:5])\n",
    "print(vectors[:5])"
   ]
  },
  {
   "cell_type": "code",
   "execution_count": null,
   "metadata": {},
   "outputs": [],
   "source": [
    "# explained variance of a feature is a measure of how much of the total variance in the data is explained by that feature. \n",
    "# It is calculated as the ratio of the variance of the feature to the total variance of the data, multiplied by 100.\n",
    "\n",
    "explained_variances = []\n",
    "for i in range(len(values)):\n",
    "    explained_variances.append((values[i] / np.sum(values))*100)\n",
    "\n",
    "print(\"explained varience of each feature : \", explained_variances)"
   ]
  },
  {
   "cell_type": "code",
   "execution_count": null,
   "metadata": {},
   "outputs": [],
   "source": [
    "import matplotlib.pyplot as plt\n",
    "\n",
    "# bar plot of the explained variance of each feature. The x-axis of the plot represents the dimensions (i.e., features), and the y-axis represents the percentage of explained variance.\n",
    "\n",
    "# The bar function from Matplotlib's pyplot module is used to create the bar plot. The range(4) argument specifies the x-coordinates of the bars, and the explained_variances argument specifies the heights of the bars. The alpha parameter specifies the transparency of the bars.\n",
    "\n",
    "# The ylabel and xlabel functions are used to label the y-axis and x-axis of the plot, respectively.\n",
    "\n",
    "plt.figure(figsize=(5,5))\n",
    "plt.bar(range(4), explained_variances)\n",
    "plt.xlabel(\"dimensions\")\n",
    "plt.ylabel(\"percentange of explained variance\")"
   ]
  },
  {
   "cell_type": "code",
   "execution_count": null,
   "metadata": {},
   "outputs": [],
   "source": [
    "# The input features (X_scaled) are multiplied by the transpose of the eigenvector matrix (vectors.T), which gives the projections of the features onto the PCs.\n",
    "projected_1 = X_scaled.dot(vectors.T[0])\n",
    "projected_2 = X_scaled.dot(vectors.T[1])\n",
    "\n",
    "# projections are then added to a Pandas data frame with the labels (y) using the res data frame.\n",
    "res = pd.DataFrame(projected_1, columns = ['PC1'])\n",
    "res['PC2'] = projected_2\n",
    "res['Y'] = y\n",
    "\n",
    "res.head()\n"
   ]
  },
  {
   "cell_type": "code",
   "execution_count": null,
   "metadata": {},
   "outputs": [],
   "source": [
    "# a scatter plot is created using the Seaborn library's FacetGrid function.\n",
    "\n",
    "# The FacetGrid function creates a grid of subplots and assigns the projections to the subplots. The hue parameter specifies the categorical variable to use for coloring the points, and the height parameter specifies the height of the plot.\n",
    "\n",
    "# The map function is used to plot the scatter plot using the scatter function from Matplotlib's pyplot module. The add_legend function is used to add a legend to the plot.\n",
    "\n",
    "import seaborn as sns\n",
    "\n",
    "sns.FacetGrid(res, hue=\"Y\", height=6).map(plt.scatter, 'PC1', 'PC2').add_legend()\n",
    "plt.show()"
   ]
  }
 ],
 "metadata": {
  "kernelspec": {
   "display_name": "Python 3",
   "language": "python",
   "name": "python3"
  },
  "language_info": {
   "codemirror_mode": {
    "name": "ipython",
    "version": 3
   },
   "file_extension": ".py",
   "mimetype": "text/x-python",
   "name": "python",
   "nbconvert_exporter": "python",
   "pygments_lexer": "ipython3",
   "version": "3.10.7 (tags/v3.10.7:6cc6b13, Sep  5 2022, 14:08:36) [MSC v.1933 64 bit (AMD64)]"
  },
  "orig_nbformat": 4,
  "vscode": {
   "interpreter": {
    "hash": "467a397cf1c5f9b4668be4aaa2bda14a83c8bfb801899d630e5c827963d9ea74"
   }
  }
 },
 "nbformat": 4,
 "nbformat_minor": 2
}
